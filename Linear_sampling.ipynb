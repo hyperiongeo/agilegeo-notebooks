{
 "cells": [
  {
   "cell_type": "markdown",
   "metadata": {},
   "source": [
    "#The curse of hunting rare things\n",
    "###What are the chances of intersecting features with a grid of cross-sections?"
   ]
  },
  {
   "cell_type": "markdown",
   "metadata": {},
   "source": [
    "I'd like to know the probability of intersecting features with a grid of cross-sections? These sections or transects might be 2D seismic lines, or outcrops.\n",
    "\n",
    "This notebook goes with the Agile blog post — [The curse of hunting rare things](http://www.agilegeoscience.com/blog/2015/5/21/the-curse-of-hunting-rare-things) — from May 2015. "
   ]
  },
  {
   "cell_type": "markdown",
   "metadata": {},
   "source": [
    "## Linear sampling theory"
   ]
  },
  {
   "cell_type": "markdown",
   "metadata": {},
   "source": [
    "I got this approach from [some lab notes by Dave Oleyar](http://www.webpages.uidaho.edu/wlf448/lab5line.htm) for an ecology class at the Unisity of Idaho. He in turn refers to the following publication:\n",
    "\n",
    "> Buckland, S. T., Anderson, D. R., Burnham, K. P., and Laake, J. L. 1993. Distance sampling: estimating abundance of biological populations. Chapman and Hall, London.\n",
    "\n",
    "The equation in the notes expresses density in terms of observations, but I was interested in the inverse problem: expected intersections given some population. Of course, we don't know the population, but we can tune our intuition with some modeling."
   ]
  },
  {
   "cell_type": "code",
   "execution_count": 3,
   "metadata": {
    "collapsed": false
   },
   "outputs": [
    {
     "name": "stdout",
     "output_type": "stream",
     "text": [
      "Expected number of features intersected: 37.5\n"
     ]
    }
   ],
   "source": [
    "area = 120000.0      # km^2, area covered by transects\n",
    "population = 120     # Total number of features (guess)\n",
    "no_lines = 250       # Total number of transects\n",
    "line_length = 150    # km, mean length of a transect\n",
    "feature_width = 0.5  # km, width of features\n",
    "\n",
    "density = population / area\n",
    "length = no_lines * line_length\n",
    "\n",
    "observed = 2 * density * length * feature_width\n",
    "print(\"Expected number of features intersected:\", observed)"
   ]
  },
  {
   "cell_type": "markdown",
   "metadata": {},
   "source": [
    "Just for fun, we can — using the original formula in the reference — calculate the population size from an observation:"
   ]
  },
  {
   "cell_type": "code",
   "execution_count": 4,
   "metadata": {
    "collapsed": false
   },
   "outputs": [
    {
     "name": "stdout",
     "output_type": "stream",
     "text": [
      "Population: 120.0\n"
     ]
    }
   ],
   "source": [
    "observed = 37.5\n",
    "population = (observed * area) / (2. * length * feature_width)\n",
    "\n",
    "print(\"Population:\", population)"
   ]
  },
  {
   "cell_type": "markdown",
   "metadata": {},
   "source": [
    "It's a linear relationship, let's plot it."
   ]
  },
  {
   "cell_type": "code",
   "execution_count": 5,
   "metadata": {
    "collapsed": true
   },
   "outputs": [],
   "source": [
    "import numpy as np\n",
    "import matplotlib.pyplot as plt\n",
    "%matplotlib inline"
   ]
  },
  {
   "cell_type": "code",
   "execution_count": 6,
   "metadata": {
    "collapsed": false
   },
   "outputs": [
    {
     "data": {
      "image/png": "[encoded data removed]",
      "text/plain": [
       "<Figure size 640x480 with 1 Axes>"
      ]
     },
     "metadata": {},
     "output_type": "display_data"
    }
   ],
   "source": [
    "# Make that last expression into a quick function\n",
    "def pop(obs, area, length, width):\n",
    "    return (obs * area) / (2. * length * width)\n",
    "\n",
    "# Pass in an array of values\n",
    "obs = np.arange(50)\n",
    "pop = pop(obs, area, length, feature_width)\n",
    "\n",
    "plt.plot(obs, pop)\n",
    "plt.xlabel('observed')\n",
    "plt.ylabel('population')\n",
    "plt.show()"
   ]
  },
  {
   "cell_type": "markdown",
   "metadata": {},
   "source": [
    "<hr />\n",
    "## Geometric reasoning"
   ]
  },
  {
   "cell_type": "markdown",
   "metadata": {},
   "source": [
    "If we think of a 2D line, we can reason that if a feature lies more than its radius from the line then it is not intersected. Here's the situation for a grid:\n",
    "\n",
    "<img src=\"https://dl.dropboxusercontent.com/u/14965965/2D-grid.png\">\n",
    "\n",
    "If there's a set of lines, then the problem is symmetric across the gaps between lines. The width of the 'invisible strip' (grey in the figure, which shows a grid rather than a swath) is the size of the gap minus the width of the feature. If we divide the width of the invisible strip by the width of the gap, we get a probability of randomly distributed features falling into the invisible strip."
   ]
  },
  {
   "cell_type": "markdown",
   "metadata": {},
   "source": [
    "### Parallel 2D lines"
   ]
  },
  {
   "cell_type": "code",
   "execution_count": 8,
   "metadata": {
    "collapsed": false
   },
   "outputs": [
    {
     "name": "stdout",
     "output_type": "stream",
     "text": [
      "Probability of intersecting a given feature: 0.16666666666666663\n"
     ]
    }
   ],
   "source": [
    "line_spacing = 3.0  # km, the width of the gap\n",
    "\n",
    "# 'Invisible' means 'not intersected'\n",
    "width_invisible = line_spacing - feature_width\n",
    "prob_invisible = width_invisible / line_spacing\n",
    "prob_visible = 1 - prob_invisible\n",
    "\n",
    "print(\"Probability of intersecting a given feature:\", prob_visible)"
   ]
  },
  {
   "cell_type": "markdown",
   "metadata": {},
   "source": [
    "### Orthogonal grid of 2D lines"
   ]
  },
  {
   "cell_type": "code",
   "execution_count": 9,
   "metadata": {
    "collapsed": false
   },
   "outputs": [
    {
     "name": "stdout",
     "output_type": "stream",
     "text": [
      "Probability of intersecting a given feature: 0.3055555555555556\n"
     ]
    }
   ],
   "source": [
    "x_spacing = 3.0  # km\n",
    "y_spacing = 3.0  # km\n",
    "\n",
    "# Think of the quadrilaterals between lines as 'units'\n",
    "area_of_unit = x_spacing * y_spacing\n",
    "area_invisible = (x_spacing - feature_width) * (y_spacing - feature_width)\n",
    "area_visible = area_of_unit - area_invisible\n",
    "prob_visible = area_visible / area_of_unit\n",
    "\n",
    "print(\"Probability of intersecting a given feature:\", prob_visible)"
   ]
  },
  {
   "cell_type": "markdown",
   "metadata": {},
   "source": [
    "We're going to need a binomial distribution, `scipy.stats.binom`."
   ]
  },
  {
   "cell_type": "code",
   "execution_count": 10,
   "metadata": {
    "collapsed": false
   },
   "outputs": [],
   "source": [
    "import scipy.stats"
   ]
  },
  {
   "cell_type": "markdown",
   "metadata": {},
   "source": [
    "We can use the distribution to estimate the probability of seeing no features. Then we can use the survival function (or, equivalently, 1 - the cumulative distribution function), `sf(x, n, p)`, to tell us the probability of drawing more than *x* in *n* trials, given a success probability *p*:"
   ]
  },
  {
   "cell_type": "code",
   "execution_count": 11,
   "metadata": {
    "collapsed": false
   },
   "outputs": [
    {
     "name": "stdout",
     "output_type": "stream",
     "text": [
      "Probability of intersecting no features: 9.919755058731438e-20\n",
      "Probability of intersecting at least one: 1.0\n",
      "Probability of intersecting at least two: 1.0\n",
      "Probability of intersecting all features: 1.624883119449266e-62\n"
     ]
    }
   ],
   "source": [
    "p = \"Probability of intersecting\"\n",
    "print(p, \"no features:\", scipy.stats.binom.pmf(0, population, prob_visible))\n",
    "print(p, \"at least one:\", scipy.stats.binom.sf(0, population, prob_visible))\n",
    "print(p, \"at least two:\", scipy.stats.binom.sf(1, population, prob_visible))\n",
    "print(p, \"all features:\", scipy.stats.binom.sf(population-1, population, prob_visible))"
   ]
  },
  {
   "cell_type": "markdown",
   "metadata": {},
   "source": [
    "<hr />\n",
    "## Interpretation accuracy"
   ]
  },
  {
   "cell_type": "markdown",
   "metadata": {},
   "source": [
    "We can apply Bayes' theorem to update the prior probability (above) with the reliability of our interpretation (due to lack of resolution, data quality, or skill). "
   ]
  },
  {
   "cell_type": "code",
   "execution_count": 12,
   "metadata": {
    "collapsed": false
   },
   "outputs": [],
   "source": [
    "reliability = 0.75\n",
    "trials = 120\n",
    "\n",
    "intersect_interpret = prob_visible * reliability * trials\n",
    "intersect_xinterpret = prob_visible * (1 - reliability) * trials\n",
    "xintersect_interpret = (1 - prob_visible) * (1 - reliability) * trials\n",
    "xintersect_xinterpret = (1 - prob_visible) * reliability * trials\n",
    "\n",
    "t = [[intersect_interpret, intersect_xinterpret], [xintersect_interpret, xintersect_xinterpret]]"
   ]
  },
  {
   "cell_type": "markdown",
   "metadata": {},
   "source": [
    "We can use a `pandas` DataFrame to show a quick table:"
   ]
  },
  {
   "cell_type": "code",
   "execution_count": 13,
   "metadata": {
    "collapsed": false
   },
   "outputs": [
    {
     "data": {
      "text/html": [
       "<div>\n",
       "<style scoped>\n",
       "    .dataframe tbody tr th:only-of-type {\n",
       "        vertical-align: middle;\n",
       "    }\n",
       "\n",
       "    .dataframe tbody tr th {\n",
       "        vertical-align: top;\n",
       "    }\n",
       "\n",
       "    .dataframe thead th {\n",
       "        text-align: right;\n",
       "    }\n",
       "</style>\n",
       "<table border=\"1\" class=\"dataframe\">\n",
       "  <thead>\n",
       "    <tr style=\"text-align: right;\">\n",
       "      <th></th>\n",
       "      <th>Interpreted</th>\n",
       "      <th>Not interpreted</th>\n",
       "    </tr>\n",
       "  </thead>\n",
       "  <tbody>\n",
       "    <tr>\n",
       "      <th>Intersected</th>\n",
       "      <td>27.500000</td>\n",
       "      <td>9.166667</td>\n",
       "    </tr>\n",
       "    <tr>\n",
       "      <th>Not intersected</th>\n",
       "      <td>20.833333</td>\n",
       "      <td>62.500000</td>\n",
       "    </tr>\n",
       "  </tbody>\n",
       "</table>\n",
       "</div>"
      ],
      "text/plain": [
       "                 Interpreted  Not interpreted\n",
       "Intersected        27.500000         9.166667\n",
       "Not intersected    20.833333        62.500000"
      ]
     },
     "execution_count": 13,
     "metadata": {},
     "output_type": "execute_result"
    }
   ],
   "source": [
    "from pandas import DataFrame\n",
    "df = DataFrame(t, index=['Intersected', 'Not intersected'], columns=['Interpreted','Not interpreted'])\n",
    "df"
   ]
  },
  {
   "cell_type": "markdown",
   "metadata": {},
   "source": [
    "We can compute the probability of a given feature being correctly interpreted:"
   ]
  },
  {
   "cell_type": "code",
   "execution_count": 14,
   "metadata": {
    "collapsed": false
   },
   "outputs": [
    {
     "name": "stdout",
     "output_type": "stream",
     "text": [
      "Probability of a feature existing if interpreted: 0.5689655172413793\n"
     ]
    }
   ],
   "source": [
    "prob_correct = intersect_interpret / (intersect_interpret + xintersect_interpret)\n",
    "print(\"Probability of a feature existing if interpreted:\", prob_correct)"
   ]
  },
  {
   "cell_type": "markdown",
   "metadata": {},
   "source": [
    "<hr />\n",
    "<img src=\"https://avatars1.githubusercontent.com/u/1692321?v=3&s=200\" style=\"float:right;\" width=\"50px\" /><p style=\"color:gray; float:right;\">© 2015 <a href=\"http://www.agilegeoscience.com/\">Agile Geoscience</a> — <a href=\"https://creativecommons.org/licenses/by/4.0/\">CC-BY</a> — Have fun!&nbsp;&nbsp;&nbsp;</p>"
   ]
  }
 ],
 "metadata": {
  "kernelspec": {
   "display_name": "geophys312",
   "language": "python",
   "name": "python3"
  },
  "language_info": {
   "codemirror_mode": {
    "name": "ipython",
    "version": 3
   },
   "file_extension": ".py",
   "mimetype": "text/x-python",
   "name": "python",
   "nbconvert_exporter": "python",
   "pygments_lexer": "ipython3",
   "version": "3.12.5"
  }
 },
 "nbformat": 4,
 "nbformat_minor": 0
}

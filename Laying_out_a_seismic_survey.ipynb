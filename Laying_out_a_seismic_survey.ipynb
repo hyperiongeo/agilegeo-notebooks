{
 "cells": [
  {
   "cell_type": "markdown",
   "id": "2cb93e27",
   "metadata": {},
   "source": [
    "# Laying out a seismic survey"
   ]
  },
  {
   "cell_type": "markdown",
   "id": "4198c2cc",
   "metadata": {},
   "source": [
    "This notebook goes with a blog post — [Laying out a seismic survey](http://agilegeoscience.com/journal/2014/12/17/laying-out-a-seismic-survey.html) — on Wednesday 17 December 2014. \n",
    "\n",
    "We start with the usual preliminaries..."
   ]
  },
  {
   "cell_type": "code",
   "execution_count": 1,
   "id": "a2858dfe",
   "metadata": {
    "collapsed": false
   },
   "outputs": [],
   "source": [
    "import numpy as np\n",
    "import matplotlib.pyplot as plt\n",
    "from shapely.geometry import Point\n",
    "from geopandas import GeoDataFrame\n",
    "\n",
    "%matplotlib inline"
   ]
  },
  {
   "cell_type": "markdown",
   "id": "aa387273",
   "metadata": {},
   "source": [
    "## Set up a basic geometry"
   ]
  },
  {
   "cell_type": "markdown",
   "id": "d0dd5933",
   "metadata": {},
   "source": [
    "Next we can define the survey parameters."
   ]
  },
  {
   "cell_type": "code",
   "execution_count": 2,
   "id": "1e4d4628",
   "metadata": {
    "collapsed": false
   },
   "outputs": [],
   "source": [
    "# initial conditions\n",
    "xmi = 575000   # leftmost corner of grid (m)\n",
    "ymi= 4710000   # bottommost corner of grid (m)\n",
    "SL = 600       # shot line interval (m)\n",
    "RL = 600       # receiver line interval (m)\n",
    "si = 100       # source point interval (m)\n",
    "ri = 100       # receiver interval (m)\n",
    "x = 3000       # width of survey (m)\n",
    "y = 1800       # height of survey (m)"
   ]
  },
  {
   "cell_type": "markdown",
   "id": "70ec996e",
   "metadata": {},
   "source": [
    "Some easy geometry: calculate the number of source and receiver lines we can fit into the shape we have defined, given the spacing we want:"
   ]
  },
  {
   "cell_type": "code",
   "execution_count": 3,
   "id": "2fc9f345",
   "metadata": {
    "collapsed": false
   },
   "outputs": [],
   "source": [
    "# Number of receiver lines and source lines\n",
    "rlines = int(y/RL) + 1\n",
    "slines = int(x/SL) + 1\n",
    "\n",
    "# Put recevier lines East-West, and shot lines North South\n",
    "rperline = int(x/ri) + 2\n",
    "sperline = int(y/si) + 2\n",
    "\n",
    "# offset the receivers relative to the sources\n",
    "shiftx = -si/2.\n",
    "shifty = -ri/2."
   ]
  },
  {
   "cell_type": "markdown",
   "id": "70bc2e47",
   "metadata": {},
   "source": [
    "This is a double list comprehension. It's a bit sticky. First, to illustrate the point, see how this one-liner makes a simple list:"
   ]
  },
  {
   "cell_type": "code",
   "execution_count": 4,
   "id": "2409171d",
   "metadata": {
    "collapsed": false
   },
   "outputs": [
    {
     "data": {
      "text/plain": [
       "[0, 1, 4, 9, 16, 25, 36, 49, 64, 81]"
      ]
     },
     "execution_count": 4,
     "metadata": {},
     "output_type": "execute_result"
    }
   ],
   "source": [
    "[x**2 for x in range(10)]"
   ]
  },
  {
   "cell_type": "markdown",
   "id": "8e90ca0e",
   "metadata": {},
   "source": [
    "Now check this out:"
   ]
  },
  {
   "cell_type": "code",
   "execution_count": 5,
   "id": "6ec1d95d",
   "metadata": {
    "collapsed": false
   },
   "outputs": [
    {
     "data": {
      "text/plain": [
       "[1, 0, 0, 0, 1, 1, 1, 1, 1, 2, 4, 8, 1, 3, 9, 27]"
      ]
     },
     "execution_count": 5,
     "metadata": {},
     "output_type": "execute_result"
    }
   ],
   "source": [
    "[x**y for x in range(4) for y in range(4)]"
   ]
  },
  {
   "cell_type": "markdown",
   "id": "3e0f7205",
   "metadata": {},
   "source": [
    "Now hopefully it's not too hard to see what we're doing here..."
   ]
  },
  {
   "cell_type": "code",
   "execution_count": 6,
   "id": "49a75024",
   "metadata": {
    "collapsed": false
   },
   "outputs": [],
   "source": [
    "# Find x,y coordinates of recs and shots\n",
    "rcvrx = [xmi + rcvr*ri + shiftx for line in range(rlines) for rcvr in range(rperline)]\n",
    "rcvry = [ymi + line*RL - shifty for line in range(rlines) for rcvr in range(rperline)]\n",
    "\n",
    "srcx = [xmi + line*SL for line in range(slines) for src in range(sperline)]\n",
    "srcy = [ymi + src*si for line in range(slines) for src in range(sperline)] "
   ]
  },
  {
   "cell_type": "code",
   "execution_count": 7,
   "id": "81daf797",
   "metadata": {
    "collapsed": false
   },
   "outputs": [],
   "source": [
    "def plot_geoms(xcoords, ycoords, color = 'none', size = 50, alpha = 0.5):\n",
    "    \"\"\"\n",
    "    A helper function to make it a bit easier to plot multiple things.\n",
    "    \"\"\"\n",
    "    plot = plt.scatter(xcoords,\n",
    "                       ycoords, \n",
    "                       c=color, \n",
    "                       s=size,\n",
    "                       marker='o',\n",
    "                       alpha=alpha,\n",
    "                       edgecolor='none'\n",
    "                       )\n",
    "    return plot"
   ]
  },
  {
   "cell_type": "code",
   "execution_count": 8,
   "id": "4bad063f",
   "metadata": {
    "collapsed": false
   },
   "outputs": [
    {
     "data": {
      "image/png": "[encoded data removed]",
      "text/plain": [
       "<matplotlib.figure.Figure at 0x10bcdb0d0>"
      ]
     },
     "metadata": {},
     "output_type": "display_data"
    }
   ],
   "source": [
    "fig = plt.figure(figsize=(15,10))\n",
    "r = plot_geoms(rcvrx, rcvry, 'b')\n",
    "s = plot_geoms(srcx, srcy, 'r')\n",
    "plt.axis('equal')\n",
    "plt.grid()"
   ]
  },
  {
   "cell_type": "markdown",
   "id": "35db3f82",
   "metadata": {},
   "source": [
    "## Making a more robust data container"
   ]
  },
  {
   "cell_type": "code",
   "execution_count": 9,
   "id": "e58df55e",
   "metadata": {
    "collapsed": false
   },
   "outputs": [],
   "source": [
    "# Zip into x,y coordinate pairs.\n",
    "rcvrxy = zip(rcvrx, rcvry)\n",
    "srcxy = zip(srcx, srcy)\n",
    "\n",
    "# Create a list of Point objects.\n",
    "rcvrs = [Point(x,y) for x,y in rcvrxy]\n",
    "srcs = [Point(x,y) for x,y in srcxy]\n",
    "\n",
    "# Put lists into a GeoDataFrame.\n",
    "receivers = GeoDataFrame({'geometry': rcvrs})\n",
    "sources = GeoDataFrame({'geometry': srcs})"
   ]
  },
  {
   "cell_type": "markdown",
   "id": "3a8d493e",
   "metadata": {},
   "source": [
    "If you want to, save the `GeoDataFrame`s as shapefiles:"
   ]
  },
  {
   "cell_type": "code",
   "execution_count": 10,
   "id": "a211eb24",
   "metadata": {
    "collapsed": false
   },
   "outputs": [],
   "source": [
    "sources.to_file('sources.shp')\n",
    "receivers.to_file('receivers.shp')"
   ]
  },
  {
   "cell_type": "markdown",
   "id": "31f2b6e5",
   "metadata": {},
   "source": [
    "## Computing the midpoints"
   ]
  },
  {
   "cell_type": "markdown",
   "id": "3e889c6d",
   "metadata": {},
   "source": [
    "We're going to need Shapely's `LineString` geometry — essentially we ask for the 50% (0.5) mark along a line interpolated between two `Point` objects. The `interpolate` method returns another `Point`."
   ]
  },
  {
   "cell_type": "code",
   "execution_count": 11,
   "id": "5a15208c",
   "metadata": {
    "collapsed": false
   },
   "outputs": [],
   "source": [
    "from shapely.geometry import LineString"
   ]
  },
  {
   "cell_type": "markdown",
   "id": "45683e75",
   "metadata": {},
   "source": [
    "Another nested list comp gets the job done. Python is awesome!"
   ]
  },
  {
   "cell_type": "code",
   "execution_count": 12,
   "id": "9299a451",
   "metadata": {
    "collapsed": false
   },
   "outputs": [],
   "source": [
    "midpoints = [LineString([r, s]).interpolate(0.5, normalized=True) for r in rcvrs for s in srcs]"
   ]
  },
  {
   "cell_type": "markdown",
   "id": "c5121fba",
   "metadata": {},
   "source": [
    "We won't get into this too much right now, but let's just check we got what we wanted. We can throw the midpoints into a GeoPandas `GeoSeries` object, essentially a 1D GeoDataFrame — a bit like a 1D labelled array — then use its built-in `plot` method."
   ]
  },
  {
   "cell_type": "code",
   "execution_count": 13,
   "id": "df22f544",
   "metadata": {
    "collapsed": false
   },
   "outputs": [],
   "source": [
    "from geopandas import GeoSeries"
   ]
  },
  {
   "cell_type": "code",
   "execution_count": 14,
   "id": "c663aad1",
   "metadata": {
    "collapsed": false
   },
   "outputs": [
    {
     "data": {
      "text/plain": [
       "<matplotlib.axes.AxesSubplot at 0x10ee96c10>"
      ]
     },
     "execution_count": 14,
     "metadata": {},
     "output_type": "execute_result"
    },
    {
     "data": {
      "image/png": "[encoded data removed]",
      "text/plain": [
       "<matplotlib.figure.Figure at 0x10da80950>"
      ]
     },
     "metadata": {},
     "output_type": "display_data"
    }
   ],
   "source": [
    "m = GeoSeries(midpoints)\n",
    "m.plot()"
   ]
  },
  {
   "cell_type": "markdown",
   "id": "d917c070",
   "metadata": {},
   "source": [
    "Voilà!"
   ]
  }
 ],
 "metadata": {},
 "nbformat": 4,
 "nbformat_minor": 5
}
